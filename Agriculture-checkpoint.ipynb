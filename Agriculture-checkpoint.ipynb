{
 "cells": [
  {
   "cell_type": "markdown",
   "metadata": {},
   "source": [
    "# Problem Statment"
   ]
  },
  {
   "cell_type": "markdown",
   "metadata": {},
   "source": [
    "Many of us don't appreciate much, but a farmer's job is real test of endurance and determination. Once the seeds are sown, he works days and nights to make sure that he cultivates a good harvest at the end of season. A good harvest is ensured by several factors such as availability of water, soil fertility, protecting crops from rodents, timely use of pesticides & other useful chemicals and nature. While a lot of these factors are difficult to control for, the amount and frequency of pesticides is something the farmer can control.\n",
    "\n",
    "Pesticides are also special, because while they protect the crop with the right dosage. But, if you add more than required, they may spoil the entire harvest. A high level of pesticide can deem the crop dead / unsuitable for consumption among many outcomes. This data is based on crops harvested by various farmers at the end of harvest season. To simplify the problem, we can assume that all other factors like variations in farming techniques have been controlled for.\n",
    "\n",
    "We need to determine the outcome of the harvest season, i.e. whether the crop would be healthy (alive), damaged by pesticides or damaged by other reasons."
   ]
  },
  {
   "cell_type": "markdown",
   "metadata": {},
   "source": [
    "# Import needed modules and get the required dataset"
   ]
  },
  {
   "cell_type": "code",
   "execution_count": 1,
   "metadata": {},
   "outputs": [],
   "source": [
    "import pandas as pd\n",
    "import numpy as np\n",
    "import matplotlib.pyplot as plt\n",
    "import seaborn as sns\n",
    "import warnings\n",
    "warnings.filterwarnings('ignore')"
   ]
  },
  {
   "cell_type": "code",
   "execution_count": 2,
   "metadata": {},
   "outputs": [
    {
     "data": {
      "text/html": [
       "<div>\n",
       "<style scoped>\n",
       "    .dataframe tbody tr th:only-of-type {\n",
       "        vertical-align: middle;\n",
       "    }\n",
       "\n",
       "    .dataframe tbody tr th {\n",
       "        vertical-align: top;\n",
       "    }\n",
       "\n",
       "    .dataframe thead th {\n",
       "        text-align: right;\n",
       "    }\n",
       "</style>\n",
       "<table border=\"1\" class=\"dataframe\">\n",
       "  <thead>\n",
       "    <tr style=\"text-align: right;\">\n",
       "      <th></th>\n",
       "      <th>ID</th>\n",
       "      <th>Estimated_Insects_Count</th>\n",
       "      <th>Crop_Type</th>\n",
       "      <th>Soil_Type</th>\n",
       "      <th>Pesticide_Use_Category</th>\n",
       "      <th>Number_Doses_Week</th>\n",
       "      <th>Number_Weeks_Used</th>\n",
       "      <th>Number_Weeks_Quit</th>\n",
       "      <th>Season</th>\n",
       "      <th>Crop_Damage</th>\n",
       "    </tr>\n",
       "  </thead>\n",
       "  <tbody>\n",
       "    <tr>\n",
       "      <th>0</th>\n",
       "      <td>F00000001</td>\n",
       "      <td>188</td>\n",
       "      <td>1</td>\n",
       "      <td>0</td>\n",
       "      <td>1</td>\n",
       "      <td>0</td>\n",
       "      <td>0.0</td>\n",
       "      <td>0</td>\n",
       "      <td>1</td>\n",
       "      <td>0</td>\n",
       "    </tr>\n",
       "    <tr>\n",
       "      <th>1</th>\n",
       "      <td>F00000003</td>\n",
       "      <td>209</td>\n",
       "      <td>1</td>\n",
       "      <td>0</td>\n",
       "      <td>1</td>\n",
       "      <td>0</td>\n",
       "      <td>0.0</td>\n",
       "      <td>0</td>\n",
       "      <td>2</td>\n",
       "      <td>1</td>\n",
       "    </tr>\n",
       "    <tr>\n",
       "      <th>2</th>\n",
       "      <td>F00000004</td>\n",
       "      <td>257</td>\n",
       "      <td>1</td>\n",
       "      <td>0</td>\n",
       "      <td>1</td>\n",
       "      <td>0</td>\n",
       "      <td>0.0</td>\n",
       "      <td>0</td>\n",
       "      <td>2</td>\n",
       "      <td>1</td>\n",
       "    </tr>\n",
       "    <tr>\n",
       "      <th>3</th>\n",
       "      <td>F00000005</td>\n",
       "      <td>257</td>\n",
       "      <td>1</td>\n",
       "      <td>1</td>\n",
       "      <td>1</td>\n",
       "      <td>0</td>\n",
       "      <td>0.0</td>\n",
       "      <td>0</td>\n",
       "      <td>2</td>\n",
       "      <td>1</td>\n",
       "    </tr>\n",
       "    <tr>\n",
       "      <th>4</th>\n",
       "      <td>F00000006</td>\n",
       "      <td>342</td>\n",
       "      <td>1</td>\n",
       "      <td>0</td>\n",
       "      <td>1</td>\n",
       "      <td>0</td>\n",
       "      <td>0.0</td>\n",
       "      <td>0</td>\n",
       "      <td>2</td>\n",
       "      <td>1</td>\n",
       "    </tr>\n",
       "  </tbody>\n",
       "</table>\n",
       "</div>"
      ],
      "text/plain": [
       "          ID  Estimated_Insects_Count  Crop_Type  Soil_Type  \\\n",
       "0  F00000001                      188          1          0   \n",
       "1  F00000003                      209          1          0   \n",
       "2  F00000004                      257          1          0   \n",
       "3  F00000005                      257          1          1   \n",
       "4  F00000006                      342          1          0   \n",
       "\n",
       "   Pesticide_Use_Category  Number_Doses_Week  Number_Weeks_Used  \\\n",
       "0                       1                  0                0.0   \n",
       "1                       1                  0                0.0   \n",
       "2                       1                  0                0.0   \n",
       "3                       1                  0                0.0   \n",
       "4                       1                  0                0.0   \n",
       "\n",
       "   Number_Weeks_Quit  Season  Crop_Damage  \n",
       "0                  0       1            0  \n",
       "1                  0       2            1  \n",
       "2                  0       2            1  \n",
       "3                  0       2            1  \n",
       "4                  0       2            1  "
      ]
     },
     "execution_count": 2,
     "metadata": {},
     "output_type": "execute_result"
    }
   ],
   "source": [
    "#get the data\n",
    "agro_dat = pd.read_excel('Downloads/train_agriculture.xlsx')\n",
    "agro_dat.to_csv('Downloads/train_agriculture.csv')\n",
    "agro_dat.head() #check data"
   ]
  },
  {
   "cell_type": "markdown",
   "metadata": {},
   "source": [
    "Feature Descirption :\n",
    "\n",
    "1. ID - unique ID\n",
    "2. Estimated_Insects_Count - estimated insect counts per square meter\n",
    "3. Crop_Type - category of crop (0,1)\n",
    "4. Soil_Type - category of soil (0,1)\n",
    "5. Pesticide_Use_Category - type of pesticides uses (1 : never ; 2 : used previously ; 3 : currently using) \n",
    "6. Number_Doses_Week - number of doses per week\n",
    "7. Number_Weeks_Used - number of weeks used\n",
    "8. Number_Weeks_Quit - number of weeks quit\n",
    "9. Season - season (1,2,3).\n",
    "\n",
    "Target variable :\n",
    "\n",
    "Crop_Damage - 0 : healthy (alive) ; 1 : damaged by other reasons ; 2 : damaged due to pesticides "
   ]
  },
  {
   "cell_type": "code",
   "execution_count": 3,
   "metadata": {},
   "outputs": [
    {
     "data": {
      "text/plain": [
       "(4599, 10)"
      ]
     },
     "execution_count": 3,
     "metadata": {},
     "output_type": "execute_result"
    }
   ],
   "source": [
    "#check shape\n",
    "agro_dat.shape"
   ]
  },
  {
   "cell_type": "markdown",
   "metadata": {},
   "source": [
    "There are total 10 columns and 4599 rows."
   ]
  },
  {
   "cell_type": "code",
   "execution_count": 4,
   "metadata": {},
   "outputs": [
    {
     "name": "stdout",
     "output_type": "stream",
     "text": [
      "<class 'pandas.core.frame.DataFrame'>\n",
      "RangeIndex: 4599 entries, 0 to 4598\n",
      "Data columns (total 10 columns):\n",
      " #   Column                   Non-Null Count  Dtype  \n",
      "---  ------                   --------------  -----  \n",
      " 0   ID                       4599 non-null   object \n",
      " 1   Estimated_Insects_Count  4599 non-null   int64  \n",
      " 2   Crop_Type                4599 non-null   int64  \n",
      " 3   Soil_Type                4599 non-null   int64  \n",
      " 4   Pesticide_Use_Category   4599 non-null   int64  \n",
      " 5   Number_Doses_Week        4599 non-null   int64  \n",
      " 6   Number_Weeks_Used        4157 non-null   float64\n",
      " 7   Number_Weeks_Quit        4599 non-null   int64  \n",
      " 8   Season                   4599 non-null   int64  \n",
      " 9   Crop_Damage              4599 non-null   int64  \n",
      "dtypes: float64(1), int64(8), object(1)\n",
      "memory usage: 359.4+ KB\n"
     ]
    }
   ],
   "source": [
    "#check missing values and dtypes.\n",
    "agro_dat.info()"
   ]
  },
  {
   "cell_type": "markdown",
   "metadata": {},
   "source": [
    "Missing values only present in 'Number_Weeks_Used' .\n",
    "\n",
    "No 'object' dtype present except ID."
   ]
  },
  {
   "cell_type": "code",
   "execution_count": 5,
   "metadata": {},
   "outputs": [],
   "source": [
    "#imputing missing values in 'Number_Weeks_Used'\n",
    "agro_dat['Number_Weeks_Used'].fillna(agro_dat['Number_Weeks_Used'].mode()[0],inplace=True)"
   ]
  },
  {
   "cell_type": "code",
   "execution_count": 6,
   "metadata": {},
   "outputs": [
    {
     "data": {
      "image/png": "[encoded data removed]",
      "text/plain": [
       "<Figure size 1440x360 with 1 Axes>"
      ]
     },
     "metadata": {},
     "output_type": "display_data"
    }
   ],
   "source": [
    "#visualising target varibale Crop_Damage.\n",
    "sns.set(style='whitegrid')\n",
    "plt.figure(figsize=(20,5))\n",
    "sns.countplot(agro_dat['Crop_Damage'])\n",
    "plt.title('distribution of Crop_Damage')\n",
    "plt.show()"
   ]
  },
  {
   "cell_type": "markdown",
   "metadata": {},
   "source": [
    "The target variable seems heavily biased , this can make our machine to not learn effectively about why the crops are getting damaged , as the information correponding to damaged crops is relatively very less than that of healthy crops."
   ]
  },
  {
   "cell_type": "code",
   "execution_count": 7,
   "metadata": {},
   "outputs": [
    {
     "data": {
      "image/png": "[encoded data removed]",
      "text/plain": [
       "<Figure size 1440x360 with 1 Axes>"
      ]
     },
     "metadata": {},
     "output_type": "display_data"
    }
   ],
   "source": [
    "#visualising relationship of Estimated_Insects_Count with Crop_Damage.\n",
    "plt.figure(figsize=(20,5))\n",
    "sns.barplot(x=agro_dat['Crop_Damage'],y=agro_dat['Estimated_Insects_Count'])\n",
    "plt.title('relationship of Estimated_Insects_Count with Crop_Damage')\n",
    "plt.show()"
   ]
  },
  {
   "cell_type": "markdown",
   "metadata": {},
   "source": [
    "When the insect_count per square meter is around 1250, It is more likely that the use of pesticides will be done appropriately and the crop will not be damaged.\n",
    "\n",
    "When the insect count per square meter is above 1400, there are two possibilities for the crops to get damaged, one possibility is that the crop will get damaged due to insects and other factors and the other possibility for damage of crops will be due to excess pesticide usage in a process to disinfect the crops.\n",
    "\n",
    "The crop damage is more likely to be due to insects ,when the insect count per square meter is around 1800."
   ]
  },
  {
   "cell_type": "code",
   "execution_count": 8,
   "metadata": {},
   "outputs": [
    {
     "data": {
      "image/png": "[encoded data removed]",
      "text/plain": [
       "<Figure size 1440x360 with 1 Axes>"
      ]
     },
     "metadata": {},
     "output_type": "display_data"
    }
   ],
   "source": [
    "#visualising relationship of crop type with Crop_Damage.\n",
    "plt.figure(figsize=(20,5))\n",
    "sns.countplot(agro_dat['Crop_Type'],hue=agro_dat['Crop_Damage'])\n",
    "plt.title('relationship of crop type with Crop_Damage')\n",
    "plt.show()"
   ]
  },
  {
   "cell_type": "markdown",
   "metadata": {},
   "source": [
    "Crop type (0) is having more data than crop type (1) and most of these crops are recorded as healthy and according to the data there is very less record of crops being damaged due to excessive use of pesticides."
   ]
  },
  {
   "cell_type": "code",
   "execution_count": 9,
   "metadata": {},
   "outputs": [
    {
     "data": {
      "image/png": "[encoded data removed]",
      "text/plain": [
       "<Figure size 1440x360 with 1 Axes>"
      ]
     },
     "metadata": {},
     "output_type": "display_data"
    }
   ],
   "source": [
    "#visualising relationship of soil type with Crop_Damage.\n",
    "plt.figure(figsize=(20,5))\n",
    "sns.countplot(agro_dat['Soil_Type'],hue=agro_dat['Crop_Damage'])\n",
    "plt.title('relationship of soil type with Crop_Damage')\n",
    "plt.show()"
   ]
  },
  {
   "cell_type": "markdown",
   "metadata": {},
   "source": [
    "The soil type data is almost devided equally among its two types (0,1) .\n",
    "\n",
    "Soil type (0) seems to be highly vulnerable to insects that may result in damaged crops."
   ]
  },
  {
   "cell_type": "code",
   "execution_count": 10,
   "metadata": {},
   "outputs": [
    {
     "data": {
      "image/png": "[encoded data removed]",
      "text/plain": [
       "<Figure size 1440x360 with 1 Axes>"
      ]
     },
     "metadata": {},
     "output_type": "display_data"
    }
   ],
   "source": [
    "#visualising relationship of soil type with crop type.\n",
    "plt.figure(figsize=(20,5))\n",
    "sns.countplot(agro_dat['Soil_Type'],hue=agro_dat['Crop_Type'])\n",
    "plt.title('relationship of soil type with Crop_type')\n",
    "plt.show()"
   ]
  },
  {
   "cell_type": "markdown",
   "metadata": {},
   "source": [
    "Crop type(0) is seen mostly been sowed for soil type (1) and soil type (2) can also be used for this type of crop.\n",
    "\n",
    "Crop type (1) is seen mostly been sowed for soil type(0) and soil type (1) can also be used for this type of crop."
   ]
  },
  {
   "cell_type": "code",
   "execution_count": 11,
   "metadata": {},
   "outputs": [
    {
     "data": {
      "image/png": "[encoded data removed]",
      "text/plain": [
       "<Figure size 1440x360 with 1 Axes>"
      ]
     },
     "metadata": {},
     "output_type": "display_data"
    }
   ],
   "source": [
    "#visualising relationship of insect count with crop type and soil type.\n",
    "plt.figure(figsize=(20,5))\n",
    "sns.barplot(x=agro_dat['Crop_Type'],y=agro_dat['Estimated_Insects_Count'],hue=agro_dat['Soil_Type'])\n",
    "plt.title('relationship of insect count with crop type and soil type')\n",
    "plt.show()"
   ]
  },
  {
   "cell_type": "markdown",
   "metadata": {},
   "source": [
    "Crop type(0) has more average insect count than crop type(1).\n",
    "\n",
    "Soil type(0) has more average insect count than soil type(1).\n",
    "\n",
    "Soil type(0) with crop type(0) have more average insect count than soil(0) with crop(1).\n",
    "\n",
    "Soil type(1) with crop type(0) have same average insect count as soil(1) with crop(1)."
   ]
  },
  {
   "cell_type": "code",
   "execution_count": 12,
   "metadata": {},
   "outputs": [
    {
     "data": {
      "image/png": "[encoded data removed]",
      "text/plain": [
       "<Figure size 1440x360 with 1 Axes>"
      ]
     },
     "metadata": {},
     "output_type": "display_data"
    }
   ],
   "source": [
    "#visualising relationship of Pesticide_Use_Category with Crop_Damage.\n",
    "plt.figure(figsize=(20,5))\n",
    "sns.countplot(agro_dat['Pesticide_Use_Category'],hue=agro_dat['Crop_Damage'])\n",
    "plt.title('relationship of Pesticide_Use_Category with Crop_Damage')\n",
    "plt.show()"
   ]
  },
  {
   "cell_type": "markdown",
   "metadata": {},
   "source": [
    "Very less record is present of the pesticides never been used .Crops in such cases are damaged due to insects and other factors.\n",
    "\n",
    "Most of the records are related to pesticides been previously used. Crops in such cases are mostly healthy, and very few records show that the crops are damaged due to excessive use of pesticides.\n",
    "\n",
    "Maximum data of crop damage due to excessive use of pesticides is related to pesticide_use_category(3) i.e currently using pesticides."
   ]
  },
  {
   "cell_type": "code",
   "execution_count": 13,
   "metadata": {},
   "outputs": [
    {
     "data": {
      "image/png": "[encoded data removed]",
      "text/plain": [
       "<Figure size 1440x360 with 1 Axes>"
      ]
     },
     "metadata": {},
     "output_type": "display_data"
    }
   ],
   "source": [
    "#visualising relationship of Number_Doses_Week with Crop_Damage.\n",
    "plt.figure(figsize=(20,5))\n",
    "sns.barplot(y=agro_dat['Number_Doses_Week'],x=agro_dat['Crop_Damage'])\n",
    "plt.title('relationship of Number_Doses_Week with Crop_Damage')\n",
    "plt.show()"
   ]
  },
  {
   "cell_type": "markdown",
   "metadata": {},
   "source": [
    "With pesticide dosage around 30 per week, there is high chance for the crops to get damaged due to excessive pesticide dosage.\n",
    "\n",
    "With pesticide dosage below and around 25 per week, there is high chance for the crops to get damaged due to insects and other deseases.\n",
    "\n",
    "The dosage per week so that the crops are healthy is in range of 26-28 per week."
   ]
  },
  {
   "cell_type": "code",
   "execution_count": 14,
   "metadata": {},
   "outputs": [
    {
     "data": {
      "image/png": "[encoded data removed]",
      "text/plain": [
       "<Figure size 1440x360 with 1 Axes>"
      ]
     },
     "metadata": {},
     "output_type": "display_data"
    }
   ],
   "source": [
    "#visualising relationship of Number_Doses_Week with Crop_Damage.\n",
    "plt.figure(figsize=(20,5))\n",
    "sns.barplot(y=agro_dat['Number_Weeks_Used'],x=agro_dat['Crop_Damage'])\n",
    "plt.title('relationship of Number_Weeks_Used with Crop_Damage')\n",
    "plt.show()"
   ]
  },
  {
   "cell_type": "markdown",
   "metadata": {},
   "source": [
    "It can be clearly seen that with prolonged usage(above 35 weeks) of pesticides, crops aremore likely to get damaged due to excessive pesticides.\n",
    "\n",
    "crops will be healthy if pesticides are used for 25-30 weeks."
   ]
  },
  {
   "cell_type": "code",
   "execution_count": 15,
   "metadata": {},
   "outputs": [
    {
     "data": {
      "image/png": "[encoded data removed]",
      "text/plain": [
       "<Figure size 1440x360 with 1 Axes>"
      ]
     },
     "metadata": {},
     "output_type": "display_data"
    }
   ],
   "source": [
    "#visualising relationship of Number_Doses_Quit with Crop_Damage.\n",
    "plt.figure(figsize=(20,5))\n",
    "sns.barplot(y=agro_dat['Number_Weeks_Quit'],x=agro_dat['Crop_Damage'])\n",
    "plt.title('relationship of Number_Weeks_Quit with Crop_Damage')\n",
    "plt.show()"
   ]
  },
  {
   "cell_type": "markdown",
   "metadata": {},
   "source": [
    "Higher number of weeks_quit higher will be the chances of crops being healthy.\n",
    "\n"
   ]
  },
  {
   "cell_type": "code",
   "execution_count": 16,
   "metadata": {},
   "outputs": [
    {
     "data": {
      "image/png": "[encoded data removed]",
      "text/plain": [
       "<Figure size 1440x360 with 1 Axes>"
      ]
     },
     "metadata": {},
     "output_type": "display_data"
    }
   ],
   "source": [
    "#visualising relationship of Season with Crop_Damage.\n",
    "plt.figure(figsize=(20,5))\n",
    "sns.countplot(agro_dat['Season'],hue=agro_dat['Crop_Damage'])\n",
    "plt.title('relationship of Season with Crop_Damage')\n",
    "plt.show()"
   ]
  },
  {
   "cell_type": "markdown",
   "metadata": {},
   "source": [
    "Maximum data is related to season 2."
   ]
  },
  {
   "cell_type": "code",
   "execution_count": 17,
   "metadata": {},
   "outputs": [
    {
     "data": {
      "image/png": "[encoded data removed]",
      "text/plain": [
       "<Figure size 1440x360 with 1 Axes>"
      ]
     },
     "metadata": {},
     "output_type": "display_data"
    }
   ],
   "source": [
    "#visualising relationship of Season with insect count.\n",
    "plt.figure(figsize=(20,5))\n",
    "sns.barplot(x=agro_dat['Season'],y=agro_dat['Estimated_Insects_Count'])\n",
    "plt.title('relationship of Season with insect count')\n",
    "plt.show()"
   ]
  },
  {
   "cell_type": "markdown",
   "metadata": {},
   "source": [
    "Insects are present throughout the the seasons and highest in season(1)"
   ]
  },
  {
   "cell_type": "markdown",
   "metadata": {},
   "source": [
    "# Preparing Data for Training"
   ]
  },
  {
   "cell_type": "code",
   "execution_count": 18,
   "metadata": {},
   "outputs": [],
   "source": [
    "#removing redundant columns\n",
    "agro_dat.drop(['ID'],axis=1,inplace=True)"
   ]
  },
  {
   "cell_type": "code",
   "execution_count": 19,
   "metadata": {},
   "outputs": [
    {
     "data": {
      "image/png": "[encoded data removed]",
      "text/plain": [
       "<Figure size 1440x1440 with 35 Axes>"
      ]
     },
     "metadata": {},
     "output_type": "display_data"
    },
    {
     "data": {
      "text/plain": [
       "Estimated_Insects_Count    0.911469\n",
       "Crop_Type                  1.318693\n",
       "Soil_Type                  0.093631\n",
       "Pesticide_Use_Category     0.678586\n",
       "Number_Doses_Week          0.945895\n",
       "Number_Weeks_Used          0.432681\n",
       "Number_Weeks_Quit          0.919771\n",
       "Season                     0.144841\n",
       "Crop_Damage                2.306933\n",
       "dtype: float64"
      ]
     },
     "execution_count": 19,
     "metadata": {},
     "output_type": "execute_result"
    }
   ],
   "source": [
    "#check skewness of data\n",
    "agro_dat.hist(grid=True,bins=20,layout=(7,5),figsize=(20,20))\n",
    "plt.show()\n",
    "agro_dat.skew()"
   ]
  },
  {
   "cell_type": "markdown",
   "metadata": {},
   "source": [
    "No continuous or discrete variables are highly skewed.\n",
    "\n",
    "Since this is a classification problem , it is not necessary to remove skewness, as the tree based models do not assume the variables to be normally distributed."
   ]
  },
  {
   "cell_type": "code",
   "execution_count": 20,
   "metadata": {},
   "outputs": [
    {
     "data": {
      "image/png": "[encoded data removed]",
      "text/plain": [
       "<Figure size 1440x1440 with 35 Axes>"
      ]
     },
     "metadata": {},
     "output_type": "display_data"
    },
    {
     "data": {
      "text/html": [
       "<div>\n",
       "<style scoped>\n",
       "    .dataframe tbody tr th:only-of-type {\n",
       "        vertical-align: middle;\n",
       "    }\n",
       "\n",
       "    .dataframe tbody tr th {\n",
       "        vertical-align: top;\n",
       "    }\n",
       "\n",
       "    .dataframe thead th {\n",
       "        text-align: right;\n",
       "    }\n",
       "</style>\n",
       "<table border=\"1\" class=\"dataframe\">\n",
       "  <thead>\n",
       "    <tr style=\"text-align: right;\">\n",
       "      <th></th>\n",
       "      <th>Estimated_Insects_Count</th>\n",
       "      <th>Crop_Type</th>\n",
       "      <th>Soil_Type</th>\n",
       "      <th>Pesticide_Use_Category</th>\n",
       "      <th>Number_Doses_Week</th>\n",
       "      <th>Number_Weeks_Used</th>\n",
       "      <th>Number_Weeks_Quit</th>\n",
       "      <th>Season</th>\n",
       "      <th>Crop_Damage</th>\n",
       "    </tr>\n",
       "  </thead>\n",
       "  <tbody>\n",
       "    <tr>\n",
       "      <th>7</th>\n",
       "      <td>577</td>\n",
       "      <td>1</td>\n",
       "      <td>0</td>\n",
       "      <td>1</td>\n",
       "      <td>0</td>\n",
       "      <td>0.0</td>\n",
       "      <td>0</td>\n",
       "      <td>1</td>\n",
       "      <td>2</td>\n",
       "    </tr>\n",
       "    <tr>\n",
       "      <th>9</th>\n",
       "      <td>1132</td>\n",
       "      <td>1</td>\n",
       "      <td>0</td>\n",
       "      <td>1</td>\n",
       "      <td>0</td>\n",
       "      <td>0.0</td>\n",
       "      <td>0</td>\n",
       "      <td>1</td>\n",
       "      <td>2</td>\n",
       "    </tr>\n",
       "    <tr>\n",
       "      <th>14</th>\n",
       "      <td>1575</td>\n",
       "      <td>1</td>\n",
       "      <td>1</td>\n",
       "      <td>1</td>\n",
       "      <td>0</td>\n",
       "      <td>0.0</td>\n",
       "      <td>0</td>\n",
       "      <td>2</td>\n",
       "      <td>2</td>\n",
       "    </tr>\n",
       "    <tr>\n",
       "      <th>22</th>\n",
       "      <td>3895</td>\n",
       "      <td>1</td>\n",
       "      <td>1</td>\n",
       "      <td>1</td>\n",
       "      <td>0</td>\n",
       "      <td>0.0</td>\n",
       "      <td>0</td>\n",
       "      <td>1</td>\n",
       "      <td>1</td>\n",
       "    </tr>\n",
       "    <tr>\n",
       "      <th>23</th>\n",
       "      <td>4096</td>\n",
       "      <td>1</td>\n",
       "      <td>1</td>\n",
       "      <td>1</td>\n",
       "      <td>0</td>\n",
       "      <td>0.0</td>\n",
       "      <td>0</td>\n",
       "      <td>2</td>\n",
       "      <td>1</td>\n",
       "    </tr>\n",
       "    <tr>\n",
       "      <th>...</th>\n",
       "      <td>...</td>\n",
       "      <td>...</td>\n",
       "      <td>...</td>\n",
       "      <td>...</td>\n",
       "      <td>...</td>\n",
       "      <td>...</td>\n",
       "      <td>...</td>\n",
       "      <td>...</td>\n",
       "      <td>...</td>\n",
       "    </tr>\n",
       "    <tr>\n",
       "      <th>4378</th>\n",
       "      <td>1296</td>\n",
       "      <td>0</td>\n",
       "      <td>1</td>\n",
       "      <td>2</td>\n",
       "      <td>40</td>\n",
       "      <td>38.0</td>\n",
       "      <td>2</td>\n",
       "      <td>1</td>\n",
       "      <td>2</td>\n",
       "    </tr>\n",
       "    <tr>\n",
       "      <th>4436</th>\n",
       "      <td>1478</td>\n",
       "      <td>0</td>\n",
       "      <td>1</td>\n",
       "      <td>2</td>\n",
       "      <td>80</td>\n",
       "      <td>26.0</td>\n",
       "      <td>17</td>\n",
       "      <td>3</td>\n",
       "      <td>0</td>\n",
       "    </tr>\n",
       "    <tr>\n",
       "      <th>4516</th>\n",
       "      <td>1785</td>\n",
       "      <td>0</td>\n",
       "      <td>1</td>\n",
       "      <td>2</td>\n",
       "      <td>80</td>\n",
       "      <td>17.0</td>\n",
       "      <td>31</td>\n",
       "      <td>2</td>\n",
       "      <td>0</td>\n",
       "    </tr>\n",
       "    <tr>\n",
       "      <th>4545</th>\n",
       "      <td>1898</td>\n",
       "      <td>0</td>\n",
       "      <td>1</td>\n",
       "      <td>2</td>\n",
       "      <td>30</td>\n",
       "      <td>32.0</td>\n",
       "      <td>16</td>\n",
       "      <td>2</td>\n",
       "      <td>2</td>\n",
       "    </tr>\n",
       "    <tr>\n",
       "      <th>4570</th>\n",
       "      <td>2015</td>\n",
       "      <td>0</td>\n",
       "      <td>1</td>\n",
       "      <td>2</td>\n",
       "      <td>15</td>\n",
       "      <td>44.0</td>\n",
       "      <td>9</td>\n",
       "      <td>2</td>\n",
       "      <td>2</td>\n",
       "    </tr>\n",
       "  </tbody>\n",
       "</table>\n",
       "<p>236 rows × 9 columns</p>\n",
       "</div>"
      ],
      "text/plain": [
       "      Estimated_Insects_Count  Crop_Type  Soil_Type  Pesticide_Use_Category  \\\n",
       "7                         577          1          0                       1   \n",
       "9                        1132          1          0                       1   \n",
       "14                       1575          1          1                       1   \n",
       "22                       3895          1          1                       1   \n",
       "23                       4096          1          1                       1   \n",
       "...                       ...        ...        ...                     ...   \n",
       "4378                     1296          0          1                       2   \n",
       "4436                     1478          0          1                       2   \n",
       "4516                     1785          0          1                       2   \n",
       "4545                     1898          0          1                       2   \n",
       "4570                     2015          0          1                       2   \n",
       "\n",
       "      Number_Doses_Week  Number_Weeks_Used  Number_Weeks_Quit  Season  \\\n",
       "7                     0                0.0                  0       1   \n",
       "9                     0                0.0                  0       1   \n",
       "14                    0                0.0                  0       2   \n",
       "22                    0                0.0                  0       1   \n",
       "23                    0                0.0                  0       2   \n",
       "...                 ...                ...                ...     ...   \n",
       "4378                 40               38.0                  2       1   \n",
       "4436                 80               26.0                 17       3   \n",
       "4516                 80               17.0                 31       2   \n",
       "4545                 30               32.0                 16       2   \n",
       "4570                 15               44.0                  9       2   \n",
       "\n",
       "      Crop_Damage  \n",
       "7               2  \n",
       "9               2  \n",
       "14              2  \n",
       "22              1  \n",
       "23              1  \n",
       "...           ...  \n",
       "4378            2  \n",
       "4436            0  \n",
       "4516            0  \n",
       "4545            2  \n",
       "4570            2  \n",
       "\n",
       "[236 rows x 9 columns]"
      ]
     },
     "execution_count": 20,
     "metadata": {},
     "output_type": "execute_result"
    }
   ],
   "source": [
    "#check outliers in data\n",
    "agro_dat.plot(kind='box',subplots=True,layout=(7,5),figsize=(20,20))\n",
    "plt.show()\n",
    "#importing zscore to treat outliers\n",
    "import scipy\n",
    "from scipy.stats import zscore\n",
    "z = abs(zscore(agro_dat))\n",
    "agro_dat[z>3] #detecting outliers"
   ]
  },
  {
   "cell_type": "markdown",
   "metadata": {},
   "source": [
    "There are some outliers present,we will let them be and not remove them. Also the algorithms that we are going to use are not sensitive to outliers."
   ]
  },
  {
   "cell_type": "code",
   "execution_count": 21,
   "metadata": {},
   "outputs": [
    {
     "data": {
      "image/png": "[encoded data removed]",
      "text/plain": [
       "<Figure size 864x432 with 2 Axes>"
      ]
     },
     "metadata": {},
     "output_type": "display_data"
    }
   ],
   "source": [
    "#plotting correlation heatmap\n",
    "plt.figure(figsize=(12,6))\n",
    "sns.heatmap(agro_dat.corr(),annot=True)\n",
    "plt.show()"
   ]
  },
  {
   "cell_type": "markdown",
   "metadata": {},
   "source": [
    "No two independent variables are highly correlated to each other, we won't be having the problem of multicolinearity here.\n",
    "\n",
    "Number_Weeks_Used is highly correlated with target variable among all the variables.\n",
    "\n",
    "Number_Weeks_Quit is in good correlation with Pesticide_Used_Category."
   ]
  },
  {
   "cell_type": "code",
   "execution_count": 22,
   "metadata": {},
   "outputs": [],
   "source": [
    "#seperating target variable\n",
    "x = agro_dat.drop('Crop_Damage',axis=1)\n",
    "y = agro_dat['Crop_Damage']"
   ]
  },
  {
   "cell_type": "markdown",
   "metadata": {},
   "source": [
    "We can see some numerical features are categorical in nature, the are already encoded like, 1,2,3 but these features are not ordinal and the numerical categories present in these features are independent to each other, eg : soil_type ,crop_type,etc.\n",
    "\n",
    "We use one-hot-encoder so that each category in the non-ordinal features will get equal weights."
   ]
  },
  {
   "cell_type": "code",
   "execution_count": 23,
   "metadata": {},
   "outputs": [
    {
     "data": {
      "text/html": [
       "<div>\n",
       "<style scoped>\n",
       "    .dataframe tbody tr th:only-of-type {\n",
       "        vertical-align: middle;\n",
       "    }\n",
       "\n",
       "    .dataframe tbody tr th {\n",
       "        vertical-align: top;\n",
       "    }\n",
       "\n",
       "    .dataframe thead th {\n",
       "        text-align: right;\n",
       "    }\n",
       "</style>\n",
       "<table border=\"1\" class=\"dataframe\">\n",
       "  <thead>\n",
       "    <tr style=\"text-align: right;\">\n",
       "      <th></th>\n",
       "      <th>Estimated_Insects_Count</th>\n",
       "      <th>Number_Doses_Week</th>\n",
       "      <th>Number_Weeks_Used</th>\n",
       "      <th>Number_Weeks_Quit</th>\n",
       "      <th>Crop_Type_0</th>\n",
       "      <th>Crop_Type_1</th>\n",
       "      <th>Soil_Type_0</th>\n",
       "      <th>Soil_Type_1</th>\n",
       "      <th>Pesticide_Use_Category_1</th>\n",
       "      <th>Pesticide_Use_Category_2</th>\n",
       "      <th>Pesticide_Use_Category_3</th>\n",
       "      <th>Season_1</th>\n",
       "      <th>Season_2</th>\n",
       "      <th>Season_3</th>\n",
       "    </tr>\n",
       "  </thead>\n",
       "  <tbody>\n",
       "    <tr>\n",
       "      <th>0</th>\n",
       "      <td>188</td>\n",
       "      <td>0</td>\n",
       "      <td>0.0</td>\n",
       "      <td>0</td>\n",
       "      <td>0</td>\n",
       "      <td>1</td>\n",
       "      <td>1</td>\n",
       "      <td>0</td>\n",
       "      <td>1</td>\n",
       "      <td>0</td>\n",
       "      <td>0</td>\n",
       "      <td>1</td>\n",
       "      <td>0</td>\n",
       "      <td>0</td>\n",
       "    </tr>\n",
       "    <tr>\n",
       "      <th>1</th>\n",
       "      <td>209</td>\n",
       "      <td>0</td>\n",
       "      <td>0.0</td>\n",
       "      <td>0</td>\n",
       "      <td>0</td>\n",
       "      <td>1</td>\n",
       "      <td>1</td>\n",
       "      <td>0</td>\n",
       "      <td>1</td>\n",
       "      <td>0</td>\n",
       "      <td>0</td>\n",
       "      <td>0</td>\n",
       "      <td>1</td>\n",
       "      <td>0</td>\n",
       "    </tr>\n",
       "    <tr>\n",
       "      <th>2</th>\n",
       "      <td>257</td>\n",
       "      <td>0</td>\n",
       "      <td>0.0</td>\n",
       "      <td>0</td>\n",
       "      <td>0</td>\n",
       "      <td>1</td>\n",
       "      <td>1</td>\n",
       "      <td>0</td>\n",
       "      <td>1</td>\n",
       "      <td>0</td>\n",
       "      <td>0</td>\n",
       "      <td>0</td>\n",
       "      <td>1</td>\n",
       "      <td>0</td>\n",
       "    </tr>\n",
       "    <tr>\n",
       "      <th>3</th>\n",
       "      <td>257</td>\n",
       "      <td>0</td>\n",
       "      <td>0.0</td>\n",
       "      <td>0</td>\n",
       "      <td>0</td>\n",
       "      <td>1</td>\n",
       "      <td>0</td>\n",
       "      <td>1</td>\n",
       "      <td>1</td>\n",
       "      <td>0</td>\n",
       "      <td>0</td>\n",
       "      <td>0</td>\n",
       "      <td>1</td>\n",
       "      <td>0</td>\n",
       "    </tr>\n",
       "    <tr>\n",
       "      <th>4</th>\n",
       "      <td>342</td>\n",
       "      <td>0</td>\n",
       "      <td>0.0</td>\n",
       "      <td>0</td>\n",
       "      <td>0</td>\n",
       "      <td>1</td>\n",
       "      <td>1</td>\n",
       "      <td>0</td>\n",
       "      <td>1</td>\n",
       "      <td>0</td>\n",
       "      <td>0</td>\n",
       "      <td>0</td>\n",
       "      <td>1</td>\n",
       "      <td>0</td>\n",
       "    </tr>\n",
       "  </tbody>\n",
       "</table>\n",
       "</div>"
      ],
      "text/plain": [
       "   Estimated_Insects_Count  Number_Doses_Week  Number_Weeks_Used  \\\n",
       "0                      188                  0                0.0   \n",
       "1                      209                  0                0.0   \n",
       "2                      257                  0                0.0   \n",
       "3                      257                  0                0.0   \n",
       "4                      342                  0                0.0   \n",
       "\n",
       "   Number_Weeks_Quit  Crop_Type_0  Crop_Type_1  Soil_Type_0  Soil_Type_1  \\\n",
       "0                  0            0            1            1            0   \n",
       "1                  0            0            1            1            0   \n",
       "2                  0            0            1            1            0   \n",
       "3                  0            0            1            0            1   \n",
       "4                  0            0            1            1            0   \n",
       "\n",
       "   Pesticide_Use_Category_1  Pesticide_Use_Category_2  \\\n",
       "0                         1                         0   \n",
       "1                         1                         0   \n",
       "2                         1                         0   \n",
       "3                         1                         0   \n",
       "4                         1                         0   \n",
       "\n",
       "   Pesticide_Use_Category_3  Season_1  Season_2  Season_3  \n",
       "0                         0         1         0         0  \n",
       "1                         0         0         1         0  \n",
       "2                         0         0         1         0  \n",
       "3                         0         0         1         0  \n",
       "4                         0         0         1         0  "
      ]
     },
     "execution_count": 23,
     "metadata": {},
     "output_type": "execute_result"
    }
   ],
   "source": [
    "#one-hot-encode data\n",
    "cat_var = ['Crop_Type','Soil_Type','Pesticide_Use_Category','Season']\n",
    "x=pd.get_dummies(x,columns=cat_var)\n",
    "x.head()"
   ]
  },
  {
   "cell_type": "code",
   "execution_count": 24,
   "metadata": {},
   "outputs": [
    {
     "data": {
      "text/html": [
       "<div>\n",
       "<style scoped>\n",
       "    .dataframe tbody tr th:only-of-type {\n",
       "        vertical-align: middle;\n",
       "    }\n",
       "\n",
       "    .dataframe tbody tr th {\n",
       "        vertical-align: top;\n",
       "    }\n",
       "\n",
       "    .dataframe thead th {\n",
       "        text-align: right;\n",
       "    }\n",
       "</style>\n",
       "<table border=\"1\" class=\"dataframe\">\n",
       "  <thead>\n",
       "    <tr style=\"text-align: right;\">\n",
       "      <th></th>\n",
       "      <th>Estimated_Insects_Count</th>\n",
       "      <th>Number_Doses_Week</th>\n",
       "      <th>Number_Weeks_Used</th>\n",
       "      <th>Number_Weeks_Quit</th>\n",
       "      <th>Crop_Type_0</th>\n",
       "      <th>Crop_Type_1</th>\n",
       "      <th>Soil_Type_0</th>\n",
       "      <th>Soil_Type_1</th>\n",
       "      <th>Pesticide_Use_Category_1</th>\n",
       "      <th>Pesticide_Use_Category_2</th>\n",
       "      <th>Pesticide_Use_Category_3</th>\n",
       "      <th>Season_1</th>\n",
       "      <th>Season_2</th>\n",
       "      <th>Season_3</th>\n",
       "    </tr>\n",
       "  </thead>\n",
       "  <tbody>\n",
       "    <tr>\n",
       "      <th>0</th>\n",
       "      <td>-1.442868</td>\n",
       "      <td>-1.705699</td>\n",
       "      <td>-2.289051</td>\n",
       "      <td>-0.947827</td>\n",
       "      <td>-1.856819</td>\n",
       "      <td>1.856819</td>\n",
       "      <td>0.954294</td>\n",
       "      <td>-0.954294</td>\n",
       "      <td>10.059821</td>\n",
       "      <td>-1.516291</td>\n",
       "      <td>-0.644265</td>\n",
       "      <td>1.528079</td>\n",
       "      <td>-1.012031</td>\n",
       "      <td>-0.490877</td>\n",
       "    </tr>\n",
       "    <tr>\n",
       "      <th>1</th>\n",
       "      <td>-1.417081</td>\n",
       "      <td>-1.705699</td>\n",
       "      <td>-2.289051</td>\n",
       "      <td>-0.947827</td>\n",
       "      <td>-1.856819</td>\n",
       "      <td>1.856819</td>\n",
       "      <td>0.954294</td>\n",
       "      <td>-0.954294</td>\n",
       "      <td>10.059821</td>\n",
       "      <td>-1.516291</td>\n",
       "      <td>-0.644265</td>\n",
       "      <td>-0.654416</td>\n",
       "      <td>0.988112</td>\n",
       "      <td>-0.490877</td>\n",
       "    </tr>\n",
       "    <tr>\n",
       "      <th>2</th>\n",
       "      <td>-1.358138</td>\n",
       "      <td>-1.705699</td>\n",
       "      <td>-2.289051</td>\n",
       "      <td>-0.947827</td>\n",
       "      <td>-1.856819</td>\n",
       "      <td>1.856819</td>\n",
       "      <td>0.954294</td>\n",
       "      <td>-0.954294</td>\n",
       "      <td>10.059821</td>\n",
       "      <td>-1.516291</td>\n",
       "      <td>-0.644265</td>\n",
       "      <td>-0.654416</td>\n",
       "      <td>0.988112</td>\n",
       "      <td>-0.490877</td>\n",
       "    </tr>\n",
       "    <tr>\n",
       "      <th>3</th>\n",
       "      <td>-1.358138</td>\n",
       "      <td>-1.705699</td>\n",
       "      <td>-2.289051</td>\n",
       "      <td>-0.947827</td>\n",
       "      <td>-1.856819</td>\n",
       "      <td>1.856819</td>\n",
       "      <td>-1.047895</td>\n",
       "      <td>1.047895</td>\n",
       "      <td>10.059821</td>\n",
       "      <td>-1.516291</td>\n",
       "      <td>-0.644265</td>\n",
       "      <td>-0.654416</td>\n",
       "      <td>0.988112</td>\n",
       "      <td>-0.490877</td>\n",
       "    </tr>\n",
       "    <tr>\n",
       "      <th>4</th>\n",
       "      <td>-1.253760</td>\n",
       "      <td>-1.705699</td>\n",
       "      <td>-2.289051</td>\n",
       "      <td>-0.947827</td>\n",
       "      <td>-1.856819</td>\n",
       "      <td>1.856819</td>\n",
       "      <td>0.954294</td>\n",
       "      <td>-0.954294</td>\n",
       "      <td>10.059821</td>\n",
       "      <td>-1.516291</td>\n",
       "      <td>-0.644265</td>\n",
       "      <td>-0.654416</td>\n",
       "      <td>0.988112</td>\n",
       "      <td>-0.490877</td>\n",
       "    </tr>\n",
       "  </tbody>\n",
       "</table>\n",
       "</div>"
      ],
      "text/plain": [
       "   Estimated_Insects_Count  Number_Doses_Week  Number_Weeks_Used  \\\n",
       "0                -1.442868          -1.705699          -2.289051   \n",
       "1                -1.417081          -1.705699          -2.289051   \n",
       "2                -1.358138          -1.705699          -2.289051   \n",
       "3                -1.358138          -1.705699          -2.289051   \n",
       "4                -1.253760          -1.705699          -2.289051   \n",
       "\n",
       "   Number_Weeks_Quit  Crop_Type_0  Crop_Type_1  Soil_Type_0  Soil_Type_1  \\\n",
       "0          -0.947827    -1.856819     1.856819     0.954294    -0.954294   \n",
       "1          -0.947827    -1.856819     1.856819     0.954294    -0.954294   \n",
       "2          -0.947827    -1.856819     1.856819     0.954294    -0.954294   \n",
       "3          -0.947827    -1.856819     1.856819    -1.047895     1.047895   \n",
       "4          -0.947827    -1.856819     1.856819     0.954294    -0.954294   \n",
       "\n",
       "   Pesticide_Use_Category_1  Pesticide_Use_Category_2  \\\n",
       "0                 10.059821                 -1.516291   \n",
       "1                 10.059821                 -1.516291   \n",
       "2                 10.059821                 -1.516291   \n",
       "3                 10.059821                 -1.516291   \n",
       "4                 10.059821                 -1.516291   \n",
       "\n",
       "   Pesticide_Use_Category_3  Season_1  Season_2  Season_3  \n",
       "0                 -0.644265  1.528079 -1.012031 -0.490877  \n",
       "1                 -0.644265 -0.654416  0.988112 -0.490877  \n",
       "2                 -0.644265 -0.654416  0.988112 -0.490877  \n",
       "3                 -0.644265 -0.654416  0.988112 -0.490877  \n",
       "4                 -0.644265 -0.654416  0.988112 -0.490877  "
      ]
     },
     "execution_count": 24,
     "metadata": {},
     "output_type": "execute_result"
    }
   ],
   "source": [
    "#standard scale input variables\n",
    "from sklearn.preprocessing import StandardScaler\n",
    "scale=StandardScaler()\n",
    "x=pd.DataFrame(scale.fit_transform(x),columns=x.columns)\n",
    "x.head()"
   ]
  },
  {
   "cell_type": "code",
   "execution_count": 25,
   "metadata": {},
   "outputs": [],
   "source": [
    "#importing all the classification algorithms\n",
    "from sklearn.neighbors import KNeighborsClassifier\n",
    "from sklearn.naive_bayes import GaussianNB\n",
    "from sklearn.svm import SVC\n",
    "from sklearn.tree import DecisionTreeClassifier\n",
    "from xgboost import XGBClassifier\n",
    "from sklearn.ensemble import RandomForestClassifier,AdaBoostClassifier,GradientBoostingClassifier"
   ]
  },
  {
   "cell_type": "code",
   "execution_count": 26,
   "metadata": {},
   "outputs": [],
   "source": [
    "#importing all the metrics for classification analysis\n",
    "from sklearn.metrics import accuracy_score,classification_report,confusion_matrix"
   ]
  },
  {
   "cell_type": "code",
   "execution_count": 27,
   "metadata": {},
   "outputs": [
    {
     "name": "stdout",
     "output_type": "stream",
     "text": [
      "KNeighborsClassifier()\n",
      "mean score :  0.8188812135988079\n",
      "\n",
      "\n",
      "GaussianNB()\n",
      "mean score :  0.8176457498887404\n",
      "\n",
      "\n",
      "SVC()\n",
      "mean score :  0.8322478280219036\n",
      "\n",
      "\n",
      "DecisionTreeClassifier()\n",
      "mean score :  0.7241307250246706\n",
      "\n",
      "\n",
      "XGBClassifier(base_score=None, booster=None, colsample_bylevel=None,\n",
      "              colsample_bynode=None, colsample_bytree=None, gamma=None,\n",
      "              gpu_id=None, importance_type='gain', interaction_constraints=None,\n",
      "              learning_rate=None, max_delta_step=None, max_depth=None,\n",
      "              min_child_weight=None, missing=nan, monotone_constraints=None,\n",
      "              n_estimators=100, n_jobs=None, num_parallel_tree=None,\n",
      "              random_state=None, reg_alpha=None, reg_lambda=None,\n",
      "              scale_pos_weight=None, subsample=None, tree_method=None,\n",
      "              validate_parameters=None, verbosity=0)\n",
      "mean score :  0.817331320988371\n",
      "\n",
      "\n",
      "RandomForestClassifier()\n",
      "mean score :  0.8198157930380605\n",
      "\n",
      "\n",
      "AdaBoostClassifier()\n",
      "mean score :  0.8334900640467483\n",
      "\n",
      "\n",
      "GradientBoostingClassifier()\n",
      "mean score :  0.8278951645672491\n",
      "\n",
      "\n"
     ]
    }
   ],
   "source": [
    "#import train-test-split\n",
    "from sklearn.model_selection import train_test_split\n",
    "x_train,x_test,y_train,y_test=train_test_split(x,y,test_size=0.3,random_state=None)\n",
    "#import cross val score \n",
    "from sklearn.model_selection import cross_val_score\n",
    "model_list=[KNeighborsClassifier(),GaussianNB(),SVC(),DecisionTreeClassifier(),XGBClassifier(verbosity=0),\n",
    "            RandomForestClassifier(),AdaBoostClassifier(),GradientBoostingClassifier()]\n",
    "for model in model_list:\n",
    "    results=cross_val_score(model,x_train,y_train,cv=10,scoring='accuracy')\n",
    "    print(model)\n",
    "    print('mean score : ',results.mean())\n",
    "    print('\\n')"
   ]
  },
  {
   "cell_type": "markdown",
   "metadata": {},
   "source": [
    "After checking the mean accuracy scores of all these models, SVC, AdaBoost and GradientBoosting comes out to be working the best."
   ]
  },
  {
   "cell_type": "code",
   "execution_count": 28,
   "metadata": {},
   "outputs": [
    {
     "name": "stdout",
     "output_type": "stream",
     "text": [
      "max accuracy score of svc :  0.8543478260869565\n",
      "best random state :  1\n"
     ]
    }
   ],
   "source": [
    "#checking the accuracy score of SVC at best random_state\n",
    "svc=SVC()\n",
    "max_score_svc=0\n",
    "best_ran_state_svc=0\n",
    "for n in range(0,101):\n",
    "    x_train,x_test,y_train,y_test=train_test_split(x,y,test_size=0.3,random_state=n)\n",
    "    svc.fit(x_train,y_train)\n",
    "    pred=svc.predict(x_test)\n",
    "    score=accuracy_score(y_test,pred)\n",
    "    if max_score_svc < score:\n",
    "        max_score_svc = score\n",
    "        best_ran_state_svc = n\n",
    "print('max accuracy score of svc : ',max_score_svc)\n",
    "print('best random state : ',best_ran_state_svc)"
   ]
  },
  {
   "cell_type": "code",
   "execution_count": 29,
   "metadata": {},
   "outputs": [
    {
     "name": "stdout",
     "output_type": "stream",
     "text": [
      "max accuracy score of AdaBoostlassifier :  0.85\n",
      "best random state :  1\n"
     ]
    }
   ],
   "source": [
    "#checking the accuracy score of adalassifier at best random_state\n",
    "ada=AdaBoostClassifier()\n",
    "max_score_ada=0\n",
    "best_ran_state_ada=0\n",
    "for n in range(0,101):\n",
    "    x_train,x_test,y_train,y_test=train_test_split(x,y,test_size=0.3,random_state=n)\n",
    "    ada.fit(x_train,y_train)\n",
    "    pred=ada.predict(x_test)\n",
    "    score=accuracy_score(y_test,pred)\n",
    "    if max_score_ada < score:\n",
    "        max_score_ada = score\n",
    "        best_ran_state_ada = n\n",
    "print('max accuracy score of AdaBoostlassifier : ',max_score_ada)\n",
    "print('best random state : ',best_ran_state_ada)"
   ]
  },
  {
   "cell_type": "code",
   "execution_count": 30,
   "metadata": {},
   "outputs": [
    {
     "name": "stdout",
     "output_type": "stream",
     "text": [
      "max accuracy score of GradientBoostingClassifier :  0.8492753623188406\n",
      "best random state :  1\n"
     ]
    }
   ],
   "source": [
    "#checking the accuracy score of SVC at best random_state\n",
    "gb=GradientBoostingClassifier()\n",
    "max_score_gb=0\n",
    "best_ran_state_gb=0\n",
    "for n in range(0,101):\n",
    "    x_train,x_test,y_train,y_test=train_test_split(x,y,test_size=0.3,random_state=n)\n",
    "    gb.fit(x_train,y_train)\n",
    "    pred=gb.predict(x_test)\n",
    "    score=accuracy_score(y_test,pred)\n",
    "    if max_score_gb < score:\n",
    "        max_score_gb = score\n",
    "        best_ran_state_gb = n\n",
    "print('max accuracy score of GradientBoostingClassifier : ',max_score_gb)\n",
    "print('best random state : ',best_ran_state_gb)"
   ]
  },
  {
   "cell_type": "markdown",
   "metadata": {},
   "source": [
    "After checking the maximum accuracy score at best random state we can be sure that SVC is working the best at random state 1 for our problem.."
   ]
  },
  {
   "cell_type": "code",
   "execution_count": 31,
   "metadata": {},
   "outputs": [
    {
     "data": {
      "text/plain": [
       "GridSearchCV(cv=10, estimator=SVC(),\n",
       "             param_grid={'C': [0.001, 0.01, 0.1, 1],\n",
       "                         'kernel': ['linear', 'poly', 'rbf']})"
      ]
     },
     "execution_count": 31,
     "metadata": {},
     "output_type": "execute_result"
    }
   ],
   "source": [
    "x_train,x_test,y_train,y_test=train_test_split(x,y,test_size=0.3,random_state=1)\n",
    "#importing GridSearchCV \n",
    "from sklearn.model_selection import GridSearchCV\n",
    "#tuning hyperparameters of svc\n",
    "para = {'C' : [0.001,0.01,0.1,1],'kernel':['linear','poly','rbf']}\n",
    "GCV_svc=GridSearchCV(estimator=svc,param_grid=para,cv=10)\n",
    "GCV_svc.fit(x_train,y_train)"
   ]
  },
  {
   "cell_type": "code",
   "execution_count": 32,
   "metadata": {},
   "outputs": [
    {
     "name": "stdout",
     "output_type": "stream",
     "text": [
      "best parameters : {'C': 0.001, 'kernel': 'linear'}\n"
     ]
    }
   ],
   "source": [
    "#getting best parameters for svc\n",
    "print('best parameters :',GCV_svc.best_params_)"
   ]
  },
  {
   "cell_type": "code",
   "execution_count": 33,
   "metadata": {},
   "outputs": [
    {
     "name": "stdout",
     "output_type": "stream",
     "text": [
      "accuracy_score : 0.8543478260869565\n",
      "[[1167    1    0]\n",
      " [ 171   12    0]\n",
      " [  28    1    0]]\n",
      "              precision    recall  f1-score   support\n",
      "\n",
      "           0       0.85      1.00      0.92      1168\n",
      "           1       0.86      0.07      0.12       183\n",
      "           2       0.00      0.00      0.00        29\n",
      "\n",
      "    accuracy                           0.85      1380\n",
      "   macro avg       0.57      0.35      0.35      1380\n",
      "weighted avg       0.84      0.85      0.80      1380\n",
      "\n"
     ]
    }
   ],
   "source": [
    "#training and testing with best parameters of svc\n",
    "svc_best=SVC(C= 0.001, kernel='linear',probability=True)\n",
    "svc_best.fit(x_train,y_train)\n",
    "prediction=svc_best.predict(x_test)\n",
    "print('accuracy_score :',accuracy_score(y_test,prediction))\n",
    "print(confusion_matrix(y_test,prediction))\n",
    "print(classification_report(y_test,prediction))"
   ]
  },
  {
   "cell_type": "code",
   "execution_count": 34,
   "metadata": {},
   "outputs": [
    {
     "data": {
      "text/plain": [
       "0.8362678791323293"
      ]
     },
     "execution_count": 34,
     "metadata": {},
     "output_type": "execute_result"
    }
   ],
   "source": [
    "#check for overfiting and model performance in general\n",
    "results_svc=cross_val_score(svc_best,x,y,cv=10,scoring='accuracy')\n",
    "results_svc.mean()"
   ]
  },
  {
   "cell_type": "code",
   "execution_count": 35,
   "metadata": {},
   "outputs": [
    {
     "data": {
      "text/plain": [
       "0.8362687540769732"
      ]
     },
     "execution_count": 35,
     "metadata": {},
     "output_type": "execute_result"
    }
   ],
   "source": [
    "#finally fitting 100% data for deployment\n",
    "svc_best.fit(x,y)\n",
    "svc_best.score(x,y)"
   ]
  },
  {
   "cell_type": "code",
   "execution_count": 36,
   "metadata": {},
   "outputs": [
    {
     "data": {
      "text/plain": [
       "['agriculture.pkl']"
      ]
     },
     "execution_count": 36,
     "metadata": {},
     "output_type": "execute_result"
    }
   ],
   "source": [
    "#saving the model using joblib\n",
    "import joblib \n",
    "joblib.dump(svc_best,'agriculture.pkl')"
   ]
  },
  {
   "cell_type": "markdown",
   "metadata": {},
   "source": [
    "# Making Predictions Using TEST DATA"
   ]
  },
  {
   "cell_type": "code",
   "execution_count": 37,
   "metadata": {},
   "outputs": [
    {
     "data": {
      "text/html": [
       "<div>\n",
       "<style scoped>\n",
       "    .dataframe tbody tr th:only-of-type {\n",
       "        vertical-align: middle;\n",
       "    }\n",
       "\n",
       "    .dataframe tbody tr th {\n",
       "        vertical-align: top;\n",
       "    }\n",
       "\n",
       "    .dataframe thead th {\n",
       "        text-align: right;\n",
       "    }\n",
       "</style>\n",
       "<table border=\"1\" class=\"dataframe\">\n",
       "  <thead>\n",
       "    <tr style=\"text-align: right;\">\n",
       "      <th></th>\n",
       "      <th>ID</th>\n",
       "      <th>Estimated_Insects_Count</th>\n",
       "      <th>Crop_Type</th>\n",
       "      <th>Soil_Type</th>\n",
       "      <th>Pesticide_Use_Category</th>\n",
       "      <th>Number_Doses_Week</th>\n",
       "      <th>Number_Weeks_Used</th>\n",
       "      <th>Number_Weeks_Quit</th>\n",
       "      <th>Season</th>\n",
       "    </tr>\n",
       "  </thead>\n",
       "  <tbody>\n",
       "    <tr>\n",
       "      <th>0</th>\n",
       "      <td>F00000002</td>\n",
       "      <td>188</td>\n",
       "      <td>1</td>\n",
       "      <td>1</td>\n",
       "      <td>1</td>\n",
       "      <td>0</td>\n",
       "      <td>NaN</td>\n",
       "      <td>0</td>\n",
       "      <td>2</td>\n",
       "    </tr>\n",
       "    <tr>\n",
       "      <th>1</th>\n",
       "      <td>F00000007</td>\n",
       "      <td>410</td>\n",
       "      <td>1</td>\n",
       "      <td>1</td>\n",
       "      <td>1</td>\n",
       "      <td>0</td>\n",
       "      <td>0.0</td>\n",
       "      <td>0</td>\n",
       "      <td>2</td>\n",
       "    </tr>\n",
       "    <tr>\n",
       "      <th>2</th>\n",
       "      <td>F00000011</td>\n",
       "      <td>626</td>\n",
       "      <td>1</td>\n",
       "      <td>0</td>\n",
       "      <td>1</td>\n",
       "      <td>0</td>\n",
       "      <td>0.0</td>\n",
       "      <td>0</td>\n",
       "      <td>2</td>\n",
       "    </tr>\n",
       "    <tr>\n",
       "      <th>3</th>\n",
       "      <td>F00000013</td>\n",
       "      <td>731</td>\n",
       "      <td>1</td>\n",
       "      <td>0</td>\n",
       "      <td>1</td>\n",
       "      <td>0</td>\n",
       "      <td>0.0</td>\n",
       "      <td>0</td>\n",
       "      <td>2</td>\n",
       "    </tr>\n",
       "    <tr>\n",
       "      <th>4</th>\n",
       "      <td>F00000014</td>\n",
       "      <td>789</td>\n",
       "      <td>0</td>\n",
       "      <td>0</td>\n",
       "      <td>1</td>\n",
       "      <td>0</td>\n",
       "      <td>0.0</td>\n",
       "      <td>0</td>\n",
       "      <td>1</td>\n",
       "    </tr>\n",
       "  </tbody>\n",
       "</table>\n",
       "</div>"
      ],
      "text/plain": [
       "          ID  Estimated_Insects_Count  Crop_Type  Soil_Type  \\\n",
       "0  F00000002                      188          1          1   \n",
       "1  F00000007                      410          1          1   \n",
       "2  F00000011                      626          1          0   \n",
       "3  F00000013                      731          1          0   \n",
       "4  F00000014                      789          0          0   \n",
       "\n",
       "   Pesticide_Use_Category  Number_Doses_Week  Number_Weeks_Used  \\\n",
       "0                       1                  0                NaN   \n",
       "1                       1                  0                0.0   \n",
       "2                       1                  0                0.0   \n",
       "3                       1                  0                0.0   \n",
       "4                       1                  0                0.0   \n",
       "\n",
       "   Number_Weeks_Quit  Season  \n",
       "0                  0       2  \n",
       "1                  0       2  \n",
       "2                  0       2  \n",
       "3                  0       2  \n",
       "4                  0       1  "
      ]
     },
     "execution_count": 37,
     "metadata": {},
     "output_type": "execute_result"
    }
   ],
   "source": [
    "#import test file\n",
    "test_dat= pd.read_excel('Downloads/test_agriculture.xlsx')\n",
    "test_dat.to_csv('Downloads/test_agriculture.csv')\n",
    "test_dat.head() #check data"
   ]
  },
  {
   "cell_type": "code",
   "execution_count": 38,
   "metadata": {},
   "outputs": [
    {
     "data": {
      "text/plain": [
       "ID                           0\n",
       "Estimated_Insects_Count      0\n",
       "Crop_Type                    0\n",
       "Soil_Type                    0\n",
       "Pesticide_Use_Category       0\n",
       "Number_Doses_Week            0\n",
       "Number_Weeks_Used          119\n",
       "Number_Weeks_Quit            0\n",
       "Season                       0\n",
       "dtype: int64"
      ]
     },
     "execution_count": 38,
     "metadata": {},
     "output_type": "execute_result"
    }
   ],
   "source": [
    "#checking missing values\n",
    "test_dat.isnull().sum()"
   ]
  },
  {
   "cell_type": "markdown",
   "metadata": {},
   "source": [
    "we can see missing values in week_used\n",
    "\n",
    "let's impute these values with mode.(data is descrete)"
   ]
  },
  {
   "cell_type": "code",
   "execution_count": 39,
   "metadata": {},
   "outputs": [],
   "source": [
    "#imputing missing values in 'Number_Weeks_Used'\n",
    "test_dat['Number_Weeks_Used'].fillna(test_dat['Number_Weeks_Used'].mode()[0],inplace=True)"
   ]
  },
  {
   "cell_type": "code",
   "execution_count": 40,
   "metadata": {},
   "outputs": [
    {
     "data": {
      "text/html": [
       "<div>\n",
       "<style scoped>\n",
       "    .dataframe tbody tr th:only-of-type {\n",
       "        vertical-align: middle;\n",
       "    }\n",
       "\n",
       "    .dataframe tbody tr th {\n",
       "        vertical-align: top;\n",
       "    }\n",
       "\n",
       "    .dataframe thead th {\n",
       "        text-align: right;\n",
       "    }\n",
       "</style>\n",
       "<table border=\"1\" class=\"dataframe\">\n",
       "  <thead>\n",
       "    <tr style=\"text-align: right;\">\n",
       "      <th></th>\n",
       "      <th>Estimated_Insects_Count</th>\n",
       "      <th>Crop_Type</th>\n",
       "      <th>Soil_Type</th>\n",
       "      <th>Pesticide_Use_Category</th>\n",
       "      <th>Number_Doses_Week</th>\n",
       "      <th>Number_Weeks_Used</th>\n",
       "      <th>Number_Weeks_Quit</th>\n",
       "      <th>Season</th>\n",
       "    </tr>\n",
       "  </thead>\n",
       "  <tbody>\n",
       "    <tr>\n",
       "      <th>0</th>\n",
       "      <td>188</td>\n",
       "      <td>1</td>\n",
       "      <td>1</td>\n",
       "      <td>1</td>\n",
       "      <td>0</td>\n",
       "      <td>20.0</td>\n",
       "      <td>0</td>\n",
       "      <td>2</td>\n",
       "    </tr>\n",
       "    <tr>\n",
       "      <th>1</th>\n",
       "      <td>410</td>\n",
       "      <td>1</td>\n",
       "      <td>1</td>\n",
       "      <td>1</td>\n",
       "      <td>0</td>\n",
       "      <td>0.0</td>\n",
       "      <td>0</td>\n",
       "      <td>2</td>\n",
       "    </tr>\n",
       "    <tr>\n",
       "      <th>2</th>\n",
       "      <td>626</td>\n",
       "      <td>1</td>\n",
       "      <td>0</td>\n",
       "      <td>1</td>\n",
       "      <td>0</td>\n",
       "      <td>0.0</td>\n",
       "      <td>0</td>\n",
       "      <td>2</td>\n",
       "    </tr>\n",
       "    <tr>\n",
       "      <th>3</th>\n",
       "      <td>731</td>\n",
       "      <td>1</td>\n",
       "      <td>0</td>\n",
       "      <td>1</td>\n",
       "      <td>0</td>\n",
       "      <td>0.0</td>\n",
       "      <td>0</td>\n",
       "      <td>2</td>\n",
       "    </tr>\n",
       "    <tr>\n",
       "      <th>4</th>\n",
       "      <td>789</td>\n",
       "      <td>0</td>\n",
       "      <td>0</td>\n",
       "      <td>1</td>\n",
       "      <td>0</td>\n",
       "      <td>0.0</td>\n",
       "      <td>0</td>\n",
       "      <td>1</td>\n",
       "    </tr>\n",
       "  </tbody>\n",
       "</table>\n",
       "</div>"
      ],
      "text/plain": [
       "   Estimated_Insects_Count  Crop_Type  Soil_Type  Pesticide_Use_Category  \\\n",
       "0                      188          1          1                       1   \n",
       "1                      410          1          1                       1   \n",
       "2                      626          1          0                       1   \n",
       "3                      731          1          0                       1   \n",
       "4                      789          0          0                       1   \n",
       "\n",
       "   Number_Doses_Week  Number_Weeks_Used  Number_Weeks_Quit  Season  \n",
       "0                  0               20.0                  0       2  \n",
       "1                  0                0.0                  0       2  \n",
       "2                  0                0.0                  0       2  \n",
       "3                  0                0.0                  0       2  \n",
       "4                  0                0.0                  0       1  "
      ]
     },
     "execution_count": 40,
     "metadata": {},
     "output_type": "execute_result"
    }
   ],
   "source": [
    "#selecting needed columns\n",
    "test = test_dat.drop('ID',axis=1)\n",
    "test.head()"
   ]
  },
  {
   "cell_type": "code",
   "execution_count": 41,
   "metadata": {},
   "outputs": [
    {
     "data": {
      "text/html": [
       "<div>\n",
       "<style scoped>\n",
       "    .dataframe tbody tr th:only-of-type {\n",
       "        vertical-align: middle;\n",
       "    }\n",
       "\n",
       "    .dataframe tbody tr th {\n",
       "        vertical-align: top;\n",
       "    }\n",
       "\n",
       "    .dataframe thead th {\n",
       "        text-align: right;\n",
       "    }\n",
       "</style>\n",
       "<table border=\"1\" class=\"dataframe\">\n",
       "  <thead>\n",
       "    <tr style=\"text-align: right;\">\n",
       "      <th></th>\n",
       "      <th>Estimated_Insects_Count</th>\n",
       "      <th>Number_Doses_Week</th>\n",
       "      <th>Number_Weeks_Used</th>\n",
       "      <th>Number_Weeks_Quit</th>\n",
       "      <th>Crop_Type_0</th>\n",
       "      <th>Crop_Type_1</th>\n",
       "      <th>Soil_Type_0</th>\n",
       "      <th>Soil_Type_1</th>\n",
       "      <th>Pesticide_Use_Category_1</th>\n",
       "      <th>Pesticide_Use_Category_2</th>\n",
       "      <th>Pesticide_Use_Category_3</th>\n",
       "      <th>Season_1</th>\n",
       "      <th>Season_2</th>\n",
       "      <th>Season_3</th>\n",
       "    </tr>\n",
       "  </thead>\n",
       "  <tbody>\n",
       "    <tr>\n",
       "      <th>0</th>\n",
       "      <td>188</td>\n",
       "      <td>0</td>\n",
       "      <td>20.0</td>\n",
       "      <td>0</td>\n",
       "      <td>0</td>\n",
       "      <td>1</td>\n",
       "      <td>0</td>\n",
       "      <td>1</td>\n",
       "      <td>1</td>\n",
       "      <td>0</td>\n",
       "      <td>0</td>\n",
       "      <td>0</td>\n",
       "      <td>1</td>\n",
       "      <td>0</td>\n",
       "    </tr>\n",
       "    <tr>\n",
       "      <th>1</th>\n",
       "      <td>410</td>\n",
       "      <td>0</td>\n",
       "      <td>0.0</td>\n",
       "      <td>0</td>\n",
       "      <td>0</td>\n",
       "      <td>1</td>\n",
       "      <td>0</td>\n",
       "      <td>1</td>\n",
       "      <td>1</td>\n",
       "      <td>0</td>\n",
       "      <td>0</td>\n",
       "      <td>0</td>\n",
       "      <td>1</td>\n",
       "      <td>0</td>\n",
       "    </tr>\n",
       "    <tr>\n",
       "      <th>2</th>\n",
       "      <td>626</td>\n",
       "      <td>0</td>\n",
       "      <td>0.0</td>\n",
       "      <td>0</td>\n",
       "      <td>0</td>\n",
       "      <td>1</td>\n",
       "      <td>1</td>\n",
       "      <td>0</td>\n",
       "      <td>1</td>\n",
       "      <td>0</td>\n",
       "      <td>0</td>\n",
       "      <td>0</td>\n",
       "      <td>1</td>\n",
       "      <td>0</td>\n",
       "    </tr>\n",
       "    <tr>\n",
       "      <th>3</th>\n",
       "      <td>731</td>\n",
       "      <td>0</td>\n",
       "      <td>0.0</td>\n",
       "      <td>0</td>\n",
       "      <td>0</td>\n",
       "      <td>1</td>\n",
       "      <td>1</td>\n",
       "      <td>0</td>\n",
       "      <td>1</td>\n",
       "      <td>0</td>\n",
       "      <td>0</td>\n",
       "      <td>0</td>\n",
       "      <td>1</td>\n",
       "      <td>0</td>\n",
       "    </tr>\n",
       "    <tr>\n",
       "      <th>4</th>\n",
       "      <td>789</td>\n",
       "      <td>0</td>\n",
       "      <td>0.0</td>\n",
       "      <td>0</td>\n",
       "      <td>1</td>\n",
       "      <td>0</td>\n",
       "      <td>1</td>\n",
       "      <td>0</td>\n",
       "      <td>1</td>\n",
       "      <td>0</td>\n",
       "      <td>0</td>\n",
       "      <td>1</td>\n",
       "      <td>0</td>\n",
       "      <td>0</td>\n",
       "    </tr>\n",
       "  </tbody>\n",
       "</table>\n",
       "</div>"
      ],
      "text/plain": [
       "   Estimated_Insects_Count  Number_Doses_Week  Number_Weeks_Used  \\\n",
       "0                      188                  0               20.0   \n",
       "1                      410                  0                0.0   \n",
       "2                      626                  0                0.0   \n",
       "3                      731                  0                0.0   \n",
       "4                      789                  0                0.0   \n",
       "\n",
       "   Number_Weeks_Quit  Crop_Type_0  Crop_Type_1  Soil_Type_0  Soil_Type_1  \\\n",
       "0                  0            0            1            0            1   \n",
       "1                  0            0            1            0            1   \n",
       "2                  0            0            1            1            0   \n",
       "3                  0            0            1            1            0   \n",
       "4                  0            1            0            1            0   \n",
       "\n",
       "   Pesticide_Use_Category_1  Pesticide_Use_Category_2  \\\n",
       "0                         1                         0   \n",
       "1                         1                         0   \n",
       "2                         1                         0   \n",
       "3                         1                         0   \n",
       "4                         1                         0   \n",
       "\n",
       "   Pesticide_Use_Category_3  Season_1  Season_2  Season_3  \n",
       "0                         0         0         1         0  \n",
       "1                         0         0         1         0  \n",
       "2                         0         0         1         0  \n",
       "3                         0         0         1         0  \n",
       "4                         0         1         0         0  "
      ]
     },
     "execution_count": 41,
     "metadata": {},
     "output_type": "execute_result"
    }
   ],
   "source": [
    "#one-hot-encode test data\n",
    "cat_var = ['Crop_Type','Soil_Type','Pesticide_Use_Category','Season']\n",
    "test=pd.get_dummies(test,columns=cat_var)\n",
    "test.head()"
   ]
  },
  {
   "cell_type": "code",
   "execution_count": 42,
   "metadata": {},
   "outputs": [
    {
     "data": {
      "text/html": [
       "<div>\n",
       "<style scoped>\n",
       "    .dataframe tbody tr th:only-of-type {\n",
       "        vertical-align: middle;\n",
       "    }\n",
       "\n",
       "    .dataframe tbody tr th {\n",
       "        vertical-align: top;\n",
       "    }\n",
       "\n",
       "    .dataframe thead th {\n",
       "        text-align: right;\n",
       "    }\n",
       "</style>\n",
       "<table border=\"1\" class=\"dataframe\">\n",
       "  <thead>\n",
       "    <tr style=\"text-align: right;\">\n",
       "      <th></th>\n",
       "      <th>Estimated_Insects_Count</th>\n",
       "      <th>Number_Doses_Week</th>\n",
       "      <th>Number_Weeks_Used</th>\n",
       "      <th>Number_Weeks_Quit</th>\n",
       "      <th>Crop_Type_0</th>\n",
       "      <th>Crop_Type_1</th>\n",
       "      <th>Soil_Type_0</th>\n",
       "      <th>Soil_Type_1</th>\n",
       "      <th>Pesticide_Use_Category_1</th>\n",
       "      <th>Pesticide_Use_Category_2</th>\n",
       "      <th>Pesticide_Use_Category_3</th>\n",
       "      <th>Season_1</th>\n",
       "      <th>Season_2</th>\n",
       "      <th>Season_3</th>\n",
       "    </tr>\n",
       "  </thead>\n",
       "  <tbody>\n",
       "    <tr>\n",
       "      <th>0</th>\n",
       "      <td>-1.303184</td>\n",
       "      <td>-1.64457</td>\n",
       "      <td>-0.654990</td>\n",
       "      <td>-0.796004</td>\n",
       "      <td>-2.036154</td>\n",
       "      <td>2.036154</td>\n",
       "      <td>-1.093604</td>\n",
       "      <td>1.093604</td>\n",
       "      <td>7.314369</td>\n",
       "      <td>-1.174295</td>\n",
       "      <td>-0.819906</td>\n",
       "      <td>-0.656344</td>\n",
       "      <td>0.967985</td>\n",
       "      <td>-0.472725</td>\n",
       "    </tr>\n",
       "    <tr>\n",
       "      <th>1</th>\n",
       "      <td>-1.040354</td>\n",
       "      <td>-1.64457</td>\n",
       "      <td>-2.264938</td>\n",
       "      <td>-0.796004</td>\n",
       "      <td>-2.036154</td>\n",
       "      <td>2.036154</td>\n",
       "      <td>-1.093604</td>\n",
       "      <td>1.093604</td>\n",
       "      <td>7.314369</td>\n",
       "      <td>-1.174295</td>\n",
       "      <td>-0.819906</td>\n",
       "      <td>-0.656344</td>\n",
       "      <td>0.967985</td>\n",
       "      <td>-0.472725</td>\n",
       "    </tr>\n",
       "    <tr>\n",
       "      <th>2</th>\n",
       "      <td>-0.784627</td>\n",
       "      <td>-1.64457</td>\n",
       "      <td>-2.264938</td>\n",
       "      <td>-0.796004</td>\n",
       "      <td>-2.036154</td>\n",
       "      <td>2.036154</td>\n",
       "      <td>0.914407</td>\n",
       "      <td>-0.914407</td>\n",
       "      <td>7.314369</td>\n",
       "      <td>-1.174295</td>\n",
       "      <td>-0.819906</td>\n",
       "      <td>-0.656344</td>\n",
       "      <td>0.967985</td>\n",
       "      <td>-0.472725</td>\n",
       "    </tr>\n",
       "    <tr>\n",
       "      <th>3</th>\n",
       "      <td>-0.660316</td>\n",
       "      <td>-1.64457</td>\n",
       "      <td>-2.264938</td>\n",
       "      <td>-0.796004</td>\n",
       "      <td>-2.036154</td>\n",
       "      <td>2.036154</td>\n",
       "      <td>0.914407</td>\n",
       "      <td>-0.914407</td>\n",
       "      <td>7.314369</td>\n",
       "      <td>-1.174295</td>\n",
       "      <td>-0.819906</td>\n",
       "      <td>-0.656344</td>\n",
       "      <td>0.967985</td>\n",
       "      <td>-0.472725</td>\n",
       "    </tr>\n",
       "    <tr>\n",
       "      <th>4</th>\n",
       "      <td>-0.591648</td>\n",
       "      <td>-1.64457</td>\n",
       "      <td>-2.264938</td>\n",
       "      <td>-0.796004</td>\n",
       "      <td>0.491122</td>\n",
       "      <td>-0.491122</td>\n",
       "      <td>0.914407</td>\n",
       "      <td>-0.914407</td>\n",
       "      <td>7.314369</td>\n",
       "      <td>-1.174295</td>\n",
       "      <td>-0.819906</td>\n",
       "      <td>1.523591</td>\n",
       "      <td>-1.033074</td>\n",
       "      <td>-0.472725</td>\n",
       "    </tr>\n",
       "  </tbody>\n",
       "</table>\n",
       "</div>"
      ],
      "text/plain": [
       "   Estimated_Insects_Count  Number_Doses_Week  Number_Weeks_Used  \\\n",
       "0                -1.303184           -1.64457          -0.654990   \n",
       "1                -1.040354           -1.64457          -2.264938   \n",
       "2                -0.784627           -1.64457          -2.264938   \n",
       "3                -0.660316           -1.64457          -2.264938   \n",
       "4                -0.591648           -1.64457          -2.264938   \n",
       "\n",
       "   Number_Weeks_Quit  Crop_Type_0  Crop_Type_1  Soil_Type_0  Soil_Type_1  \\\n",
       "0          -0.796004    -2.036154     2.036154    -1.093604     1.093604   \n",
       "1          -0.796004    -2.036154     2.036154    -1.093604     1.093604   \n",
       "2          -0.796004    -2.036154     2.036154     0.914407    -0.914407   \n",
       "3          -0.796004    -2.036154     2.036154     0.914407    -0.914407   \n",
       "4          -0.796004     0.491122    -0.491122     0.914407    -0.914407   \n",
       "\n",
       "   Pesticide_Use_Category_1  Pesticide_Use_Category_2  \\\n",
       "0                  7.314369                 -1.174295   \n",
       "1                  7.314369                 -1.174295   \n",
       "2                  7.314369                 -1.174295   \n",
       "3                  7.314369                 -1.174295   \n",
       "4                  7.314369                 -1.174295   \n",
       "\n",
       "   Pesticide_Use_Category_3  Season_1  Season_2  Season_3  \n",
       "0                 -0.819906 -0.656344  0.967985 -0.472725  \n",
       "1                 -0.819906 -0.656344  0.967985 -0.472725  \n",
       "2                 -0.819906 -0.656344  0.967985 -0.472725  \n",
       "3                 -0.819906 -0.656344  0.967985 -0.472725  \n",
       "4                 -0.819906  1.523591 -1.033074 -0.472725  "
      ]
     },
     "execution_count": 42,
     "metadata": {},
     "output_type": "execute_result"
    }
   ],
   "source": [
    "#standard scale variables\n",
    "test=pd.DataFrame(scale.fit_transform(test),columns=test.columns)\n",
    "test.head()"
   ]
  },
  {
   "cell_type": "code",
   "execution_count": 43,
   "metadata": {},
   "outputs": [],
   "source": [
    "#predicting the Crop_Damage on given test data\n",
    "predicts=svc_best.predict(test)"
   ]
  },
  {
   "cell_type": "code",
   "execution_count": 44,
   "metadata": {},
   "outputs": [],
   "source": [
    "#save the predictions in a dataframe\n",
    "predicts=pd.DataFrame(predicts,columns=['Crops_Damage'])"
   ]
  },
  {
   "cell_type": "code",
   "execution_count": 46,
   "metadata": {},
   "outputs": [],
   "source": [
    "#make a dataframe where we can see the predictions with corresponding ID\n",
    "predicts=pd.concat([test_dat['ID'],predicts],axis=1)"
   ]
  },
  {
   "cell_type": "code",
   "execution_count": 57,
   "metadata": {},
   "outputs": [
    {
     "data": {
      "text/html": [
       "<div>\n",
       "<style scoped>\n",
       "    .dataframe tbody tr th:only-of-type {\n",
       "        vertical-align: middle;\n",
       "    }\n",
       "\n",
       "    .dataframe tbody tr th {\n",
       "        vertical-align: top;\n",
       "    }\n",
       "\n",
       "    .dataframe thead th {\n",
       "        text-align: right;\n",
       "    }\n",
       "</style>\n",
       "<table border=\"1\" class=\"dataframe\">\n",
       "  <thead>\n",
       "    <tr style=\"text-align: right;\">\n",
       "      <th></th>\n",
       "      <th>ID</th>\n",
       "      <th>Crops_Damage</th>\n",
       "    </tr>\n",
       "  </thead>\n",
       "  <tbody>\n",
       "    <tr>\n",
       "      <th>0</th>\n",
       "      <td>F00000002</td>\n",
       "      <td>1</td>\n",
       "    </tr>\n",
       "    <tr>\n",
       "      <th>1</th>\n",
       "      <td>F00000007</td>\n",
       "      <td>1</td>\n",
       "    </tr>\n",
       "    <tr>\n",
       "      <th>2</th>\n",
       "      <td>F00000011</td>\n",
       "      <td>1</td>\n",
       "    </tr>\n",
       "    <tr>\n",
       "      <th>3</th>\n",
       "      <td>F00000013</td>\n",
       "      <td>1</td>\n",
       "    </tr>\n",
       "    <tr>\n",
       "      <th>4</th>\n",
       "      <td>F00000014</td>\n",
       "      <td>1</td>\n",
       "    </tr>\n",
       "  </tbody>\n",
       "</table>\n",
       "</div>"
      ],
      "text/plain": [
       "          ID  Crops_Damage\n",
       "0  F00000002             1\n",
       "1  F00000007             1\n",
       "2  F00000011             1\n",
       "3  F00000013             1\n",
       "4  F00000014             1"
      ]
     },
     "execution_count": 57,
     "metadata": {},
     "output_type": "execute_result"
    }
   ],
   "source": [
    "#check predictions\n",
    "predicts.head()"
   ]
  },
  {
   "cell_type": "markdown",
   "metadata": {},
   "source": [
    "These are some of the final predicted sales values."
   ]
  },
  {
   "cell_type": "code",
   "execution_count": 58,
   "metadata": {},
   "outputs": [],
   "source": [
    "#save file in csv\n",
    "predicts.to_csv('agriculture_predicts.csv',index=False)"
   ]
  },
  {
   "cell_type": "code",
   "execution_count": null,
   "metadata": {},
   "outputs": [],
   "source": []
  }
 ],
 "metadata": {
  "kernelspec": {
   "display_name": "Python 3",
   "language": "python",
   "name": "python3"
  },
  "language_info": {
   "codemirror_mode": {
    "name": "ipython",
    "version": 3
   },
   "file_extension": ".py",
   "mimetype": "text/x-python",
   "name": "python",
   "nbconvert_exporter": "python",
   "pygments_lexer": "ipython3",
   "version": "3.8.3"
  }
 },
 "nbformat": 4,
 "nbformat_minor": 4
}
